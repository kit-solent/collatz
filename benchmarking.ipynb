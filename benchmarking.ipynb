{
 "cells": [
  {
   "cell_type": "markdown",
   "metadata": {},
   "source": [
    "https://en.wikipedia.org/wiki/Collatz_conjecture\n",
    "\n",
    "`search space = all positive integers`\n",
    "\n",
    "even numbers are imediatly halved so:\n",
    "\n",
    "`search space = 2n + 1` (odd numbers)\n",
    "\n",
    "every second odd number (4n + 1) becomes:\\\n",
    "3(4n + 1) + 1 = 12n + 4  is even so...\\\n",
    "6n + 2                   still even so...\\\n",
    "3n + 1\\\n",
    "3n + 1 < 4n + 1 for n in positive integers so every 2nd odd number will certainly drop below it's starting value.\\\n",
    "\n",
    "`search space = 4n + 3`\n",
    "```text\n",
    "         *          *           *              * = can be excluded from the search.\n",
    "4n + 3:  3  7 11 15 19 23 27 31 35 39 ...      these are all odd so 1.5(4n + 3) + 0.5 = 6n + 5\n",
    "6n + 5:  5 11 17 23 29 35 41 47 53 59 ...          still all odd so 1.5(6n + 5) + 0.5 = 9n + 8\n",
    "9n + 8:  8 17 26 35 44 53 62 71 80 89 ...      every 2nd of which is even\n",
    "      :  4    13    22    31    40    ...      every 2nd of which is even again\n",
    "      :  2          11          20             which are all smaller. These are every 4th 4n + 3 number or 16n + 3\n",
    "\n",
    "So every 4th number of the form 4n + 3 can be discarded.\n",
    "\n",
    "every 4th term is 16n + 3 = 2(8n + 2) + 1 is odd so\n",
    "1.5(16n + 3) + 0.5 = 24n + 5 = 2(12n + 2) + 1 is odd so\n",
    "1.5(24n + 5) + 0.5 = 36n + 8 = 2(18n + 4) is even so\n",
    "18n + 4                      = 2( 9n + 2) is even so\n",
    " 9n + 2 and 9n + 2 < 16n + 3 so can be discarded.\n",
    "```\n"
   ]
  },
  {
   "cell_type": "code",
   "execution_count": null,
   "metadata": {},
   "outputs": [],
   "source": [
    "include(\"main.jl\")\n",
    "using .Tools"
   ]
  }
 ],
 "metadata": {
  "kernelspec": {
   "display_name": "Julia 1.11.0",
   "language": "julia",
   "name": "julia-1.11"
  },
  "language_info": {
   "file_extension": ".jl",
   "mimetype": "application/julia",
   "name": "julia",
   "version": "1.11.0"
  }
 },
 "nbformat": 4,
 "nbformat_minor": 2
}
